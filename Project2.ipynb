{
 "cells": [
  {
   "cell_type": "markdown",
   "id": "896b339b",
   "metadata": {
    "id": "896b339b"
   },
   "source": [
    "Project SHCT"
   ]
  },
  {
   "cell_type": "markdown",
   "id": "d374c67c-9968-4ff8-a05c-6cea83fb0b9a",
   "metadata": {
    "id": "d374c67c-9968-4ff8-a05c-6cea83fb0b9a"
   },
   "source": [
    "Authors: Curumi Klejsi, Querzè Lorenzo  \n",
    "Spring semester 2025"
   ]
  },
  {
   "cell_type": "code",
   "execution_count": 2,
   "id": "3fced4dd-5a3c-45ae-849e-139e83da2f7d",
   "metadata": {
    "colab": {
     "base_uri": "https://localhost:8080/"
    },
    "id": "3fced4dd-5a3c-45ae-849e-139e83da2f7d",
    "outputId": "ac4fe826-cd9e-4dab-8f02-9ff9c765a1f5"
   },
   "outputs": [],
   "source": [
    "#import os\n",
    "#os.chdir(\"/content/SHCT\")\n",
    "#import sys\n",
    "#sys.path.append(\"/content/SHCT\")\n",
    "from pylab import *\n",
    "import numpy as np\n",
    "import Fluid_CP as FCP #calculation of  thermodynamic states\n",
    "from scipy.optimize import minimize, NonlinearConstraint, Bounds, minimize_scalar\n",
    "from scipy.integrate import odeint\n",
    "from scipy.optimize import bisect\n",
    "import matplotlib.pyplot as plt\n",
    "import pandas as pd\n",
    "from CompressorModel import recip_comp_SP   \n",
    "import plotDiag_Th_Ts as Diag #plot Th diagram with heat sink and heat source \n",
    "import math as _m"
   ]
  },
  {
   "cell_type": "code",
   "execution_count": 3,
   "id": "BiDk5aL8G2U7",
   "metadata": {
    "id": "BiDk5aL8G2U7"
   },
   "outputs": [],
   "source": [
    "# PARAMETERS: \n",
    "\n",
    "working_time = 43200 # s, 12 hours in seconds\n",
    "\n",
    "# Pasta\n",
    "\n",
    "T_pasta_in = 7 # °C, initial pasta temperature \n",
    "T_pasta_fin = 85 # °C, final pasta temperature\n",
    "m_pasta = 2 # kg, total kg of pasta\n",
    "m_pasta_basket = 0.5 # kg of pasta per basket\n",
    "t_break = 300 # s, break time in between batches\n",
    "t_cook = 420 # s, cooking time for the pasta\n",
    "R_h2o_pasta = 15 # K/kW, thermal resistance between pasta and water\n",
    "cp_pasta = 3.5 # kJ/kg K, heat capacity of pasta\n",
    "\n",
    "# H2O (sink)\n",
    "\n",
    "T_sink_in = 20 # °C, initial water temperature in the morning\n",
    "T_min_h2o = 85 # °C, minimum water temperature during operation\n",
    "T_max_h2o = 93 # °C, maximum water temperature during operation\n",
    "R_h2o_env = 30 # K/kW, thermal resistance between environment and water\n",
    "cp_h2o = 4.18 # kJ/kg K, heat capacity of water\n",
    "rho = 1/FCP.state(['T','p'],[T_max_h2o,1],fluid='water',Eh='CBar')['v'] # kg/m^3, density of water\n",
    "\n",
    "# Air (source)\n",
    "\n",
    "T_source = 20 # °C, heat source temperature, constant in cross-flow configuration\n",
    "\n",
    "# Geometry of the pasta cooker:\n",
    "\n",
    "h = 0.20 # m\n",
    "w = 0.27 # m\n",
    "l = 0.47 # m\n",
    "V = h*w*l\n",
    "\n",
    "# Heat duty to heat up the water from 85 to 93°C:\n",
    "\n",
    "# Assumptions during modeling: \n",
    "# - 0D problem: no temperature gradient inside h2o and pasta\n",
    "# - constant properties for water and pasta ---> therefore, thermal resistances and cps of pasta and water are constant\n",
    "\n",
    "# Heat pump design:\n",
    "# subcritical heat pump process\n",
    "# techical constraints: superheating, subcooling, optimal COP, pinch points are respected..."
   ]
  },
  {
   "cell_type": "markdown",
   "id": "79c10b4b-2cc9-4b1e-93b3-217f4069eac1",
   "metadata": {},
   "source": [
    "TASK 1: simulate pasta cooking step"
   ]
  },
  {
   "cell_type": "code",
   "execution_count": 4,
   "id": "d60f6e33-a4eb-4a7c-a97a-27fac94bf1b2",
   "metadata": {},
   "outputs": [],
   "source": [
    "# REQUIRED THERMAL ENERGY INPUT TO COOK THE PASTA\n",
    "\n",
    "#Q = m_pasta*cp_pasta*(T_pasta_fin - T_pasta_in)\n",
    "#print('The required thermal energy input to cook pasta is: ', Q, ' kJ')\n",
    "#Q_dot = Q/t_cook\n",
    "#print('The required thermal power input to cook pasta is: ', Q_dot, ' kW')"
   ]
  },
  {
   "cell_type": "code",
   "execution_count": 9,
   "id": "68d9cd75",
   "metadata": {},
   "outputs": [
    {
     "name": "stdout",
     "output_type": "stream",
     "text": [
      "Optimal heat pump power Q* = 3.94 kW\n",
      "Residual temperature error = 0.802 °C\n"
     ]
    }
   ],
   "source": [
    "# Derived capacities\n",
    "C_w = rho * V * cp_h2o          # kJ K⁻¹\n",
    "C_p = m_pasta * cp_pasta        # kJ K⁻¹\n",
    "\n",
    "\n",
    "# Integration set-up\n",
    "dt       = 1.0                                  # s\n",
    "steps_c  = int(t_cook  / dt)\n",
    "steps_br = int(t_break / dt)\n",
    "\n",
    "\n",
    "def update_pump_state(T_w: float, pump_on: bool) -> bool:\n",
    "    \"\"\"\n",
    "    Hysteresis controller:\n",
    "    - If currently OFF and T_w ≤ 85 °C  → switch ON\n",
    "    - If currently ON  and T_w ≥ 93 °C  → switch OFF\n",
    "    - Otherwise keep previous state\n",
    "    \"\"\"\n",
    "    if pump_on:\n",
    "        return False if T_w >= T_max_h2o-0.05 else True\n",
    "    else:\n",
    "        return True  if T_w <= T_min_h2o+0.05 else False\n",
    "    \n",
    "\n",
    "def run_cycle(Q_hp):\n",
    "    T_w = T_max_h2o           # start bath hot\n",
    "    T_p = T_pasta_in\n",
    "    pump_on = False           # initial compressor state\n",
    "\n",
    "    # 7-min cook ---------------------------------------------------\n",
    "    for _ in range(steps_c):\n",
    "        pump_on = update_pump_state(T_w, pump_on)\n",
    "        Q = Q_hp if pump_on else 0.0\n",
    "        q_wp = (T_w - T_p) / R_h2o_pasta\n",
    "        q_wa = (T_w - T_source) / R_h2o_env\n",
    "        T_w += dt * (Q - q_wp - q_wa) / C_w\n",
    "        T_p += dt *  q_wp / C_p\n",
    "\n",
    "    # 5-min break (reheat) ----------------------------------------\n",
    "    for _ in range(steps_br):\n",
    "        pump_on = update_pump_state(T_w, pump_on)\n",
    "        Q = Q_hp if pump_on else 0.0\n",
    "        q_wa = (T_w - T_source) / R_h2o_env\n",
    "        T_w += dt * (Q - q_wa) / C_w\n",
    "\n",
    "    return T_p, T_w\n",
    "\n",
    "\n",
    "\n",
    "def residual(Q_hp):\n",
    "    Tp_end, Tw_end = run_cycle(Q_hp)\n",
    "\n",
    "    if not np.isfinite(Tp_end) or not np.isfinite(Tw_end):\n",
    "        return 1e6  # large penalty\n",
    "\n",
    "    err_pasta = abs(Tp_end - T_pasta_fin)\n",
    "    err_water = abs(T_max_h2o - Tw_end)   # penalty only if too cold\n",
    "\n",
    "    # Option A: treat both equally\n",
    "    return err_pasta + err_water  # weight water recovery more strongly\n",
    "\n",
    "\n",
    "result = minimize_scalar(residual, bounds=(0.5, 6), method=\"bounded\",\n",
    "                         options={\"xatol\": 1e-3})\n",
    "\n",
    "Q_star = result.x\n",
    "print(f\"Optimal heat pump power Q* = {Q_star:.2f} kW\")\n",
    "print(f\"Residual temperature error = {result.fun:.3f} °C\")\n"
   ]
  },
  {
   "cell_type": "markdown",
   "id": "ee56fdc9",
   "metadata": {},
   "source": [
    "Simulation of Full day"
   ]
  },
  {
   "cell_type": "code",
   "execution_count": 11,
   "id": "cc2d1e9e",
   "metadata": {},
   "outputs": [
    {
     "name": "stdout",
     "output_type": "stream",
     "text": [
      "Simulating 15 full cycles (180.0 min total)\n"
     ]
    },
    {
     "data": {
      "image/png": "[encoded data removed]",
      "text/plain": [
       "<Figure size 1200x600 with 2 Axes>"
      ]
     },
     "metadata": {},
     "output_type": "display_data"
    }
   ],
   "source": [
    "# ────────────────────────────────────────────────────────────────\n",
    "# Simulate full working day (12 hours) with repeated cook cycles\n",
    "# ────────────────────────────────────────────────────────────────\n",
    "working_time = 43200                     # 12 hours in seconds\n",
    "t_cycle      = t_cook + t_break\n",
    "n_cycles     = int(working_time / t_cycle)\n",
    "n_cycles = 15\n",
    "\n",
    "print(f\"Simulating {n_cycles} full cycles ({n_cycles*(t_cycle)/60:.1f} min total)\")\n",
    "\n",
    "T_w = T_max_h2o            # reset bath temp to full-hot at start of day\n",
    "pump_on = False            # compressor starts OFF\n",
    "\n",
    "T_w_hist, T_p_hist, pump_hist = [], [], []\n",
    "\n",
    "for _ in range(n_cycles):\n",
    "    T_p = T_pasta_in       # fresh pasta at start of every cook cycle\n",
    "\n",
    "    # 7-min cook phase\n",
    "    for _ in range(steps_c):\n",
    "        pump_on = update_pump_state(T_w, pump_on)\n",
    "        Q = Q_star if pump_on else 0.0\n",
    "        q_wp = (T_w - T_p) / R_h2o_pasta\n",
    "        q_wa = (T_w - T_source) / R_h2o_env\n",
    "        T_w += dt * (Q - q_wp - q_wa) / C_w\n",
    "        T_p += dt *  q_wp / C_p\n",
    "        T_w_hist.append(T_w)\n",
    "        T_p_hist.append(T_p)\n",
    "        pump_hist.append(pump_on)\n",
    "\n",
    "    # 5-min break phase (no pasta)\n",
    "    for _ in range(steps_br):\n",
    "        pump_on = update_pump_state(T_w, pump_on)\n",
    "        Q = Q_star if pump_on else 0.0\n",
    "        q_wa = (T_w - T_source) / R_h2o_env\n",
    "        T_w += dt * (Q - q_wa) / C_w\n",
    "        T_w_hist.append(T_w)\n",
    "        T_p_hist.append(np.nan)       # pasta is out\n",
    "        pump_hist.append(pump_on)\n",
    "\n",
    "\n",
    "# Time axis (in minutes)\n",
    "t_all = np.arange(len(T_w_hist)) * dt / 60\n",
    "\n",
    "plt.figure(figsize=(12, 6))\n",
    "\n",
    "# Temperature plot\n",
    "plt.subplot(2, 1, 1)\n",
    "plt.plot(t_all, T_w_hist, label=\"Water\", color='blue')\n",
    "plt.plot(t_all, T_p_hist, label=\"Pasta\", color='orange')\n",
    "plt.axhline(T_max_h2o,  ls='--', color='blue',   label=\"T_max_h2o\")\n",
    "plt.axhline(T_min_h2o,  ls='--', color='blue')\n",
    "plt.axhline(85, ls=':', color='purple', label=\"T_pasta cotta\")\n",
    "plt.axhline(T_pasta_fin, ls=':', color='orange', label=\"T_pasta_fin\")\n",
    "plt.axhline(T_pasta_in,  ls=':', color='orange')\n",
    "plt.ylabel(\"Temperature (°C)\")\n",
    "plt.title(\"Pasta-Cooker Temperature Over a Workday\")\n",
    "plt.legend()\n",
    "plt.grid(True)\n",
    "\n",
    "# Compressor activity plot\n",
    "plt.subplot(2, 1, 2)\n",
    "plt.plot(t_all, np.array(pump_hist)*Q_star, color=\"green\", label=\"Compressor ON (× Q*)\")\n",
    "plt.fill_between(t_all, 0, np.array(pump_hist)*Q_star, color=\"green\", alpha=0.3)\n",
    "plt.ylabel(\"Q_hp (kW)\")\n",
    "plt.xlabel(\"Time (minutes)\")\n",
    "plt.title(\"Heat Pump Activity\")\n",
    "plt.grid(True)\n",
    "plt.legend()\n",
    "\n",
    "plt.tight_layout()\n",
    "plt.show()\n",
    "\n",
    "# print(T_w_hist)"
   ]
  },
  {
   "cell_type": "code",
   "execution_count": 5,
   "id": "076ecce6-54df-4be2-9da9-89b32290d3be",
   "metadata": {},
   "outputs": [],
   "source": [
    "# def model(y,t,Q):\n",
    "#     T_h2o, T_pasta = y\n",
    "#     Q_dot_env = (T_h2o - T_source) / R_h2o_env\n",
    "#     Q_dot_pasta = (T_h2o - T_pasta) / R_h2o_pasta\n",
    "#     if Q > 0:        \n",
    "#         dT_h2o_dt = (- Q_dot_pasta + Q) / (V * rho * cp_h2o) # - Q_dot_env - Q_dot_pasta\n",
    "#     else:\n",
    "#         dT_h2o_dt = (- Q_dot_env - Q_dot_pasta) / (V * rho * cp_h2o)\n",
    "#     dT_pasta_dt = (Q_dot_pasta) / (m_pasta * cp_pasta)\n",
    "\n",
    "#     return [dT_h2o_dt, dT_pasta_dt]"
   ]
  },
  {
   "cell_type": "code",
   "execution_count": 6,
   "id": "8767a898-b6fd-4d21-a1ea-a7bb22b5e2d4",
   "metadata": {},
   "outputs": [],
   "source": [
    "# # Simulation setup\n",
    "\n",
    "# dt = 1\n",
    "# t_sim = np.arange(0, t_cook+dt, dt)\n",
    "# state = [T_max_h2o, T_pasta_in]  # [T_h2o, T_pasta]\n",
    "# T_h2o = [state[0]]\n",
    "# T_pasta = [state[1]]\n",
    "# Q_track = [0]\n",
    "# heat_pump = \"off\"\n",
    "# Q=0\n",
    "\n",
    "# # Time loop\n",
    "\n",
    "# for i in range(1, len(t_sim)):\n",
    "    \n",
    "#     Tprev = state[0]\n",
    "\n",
    "#     # --- Controller Logic ---\n",
    "#     if Tprev <= T_min_h2o:\n",
    "#         if heat_pump == \"off\":\n",
    "#             heat_pump = \"on\"\n",
    "#             Q = Q_h2o        \n",
    "    \n",
    "#     elif Tprev >= T_max_h2o:\n",
    "#         if heat_pump == \"on\":\n",
    "#             heat_pump = \"off\"\n",
    "#             Q = 0       \n",
    "    \n",
    "#     elif T_min_h2o < Tprev < T_max_h2o:\n",
    "#         if heat_pump == \"on\":\n",
    "#             Q = Q_h2o\n",
    "#         else:\n",
    "#             Q = 0\n",
    "    \n",
    "#     # Integrate one step\n",
    "#     state_next = odeint(model, state, [0, dt], args=(Q,))\n",
    "#     state = state_next[-1]  # update current state\n",
    "\n",
    "#     # Store\n",
    "#     T_h2o.append(state[0])\n",
    "#     T_pasta.append(state[1])\n",
    "#     Q_track.append(Q)\n",
    "# plt.plot(t_sim, T_h2o, label='Water', color='blue')\n",
    "# plt.plot(t_sim, T_pasta, label='Pasta', color='orange')\n",
    "# plt.axhline(T_max_h2o)\n",
    "# plt.axhline(T_min_h2o)\n",
    "# plt.xlabel('Time [s]')\n",
    "# plt.ylabel('Temperature [°C]')\n",
    "# plt.legend()\n",
    "# plt.grid(True)\n",
    "# plt.title(\"Pasta cooking with heat pump on/off control\")\n",
    "# plt.show()\n",
    "# #print(T_h2o)\n",
    "# #print(T_pasta)\n",
    "# plt.plot(t_sim, Q_track)"
   ]
  },
  {
   "cell_type": "code",
   "execution_count": null,
   "id": "1cadfc6b-68fa-4c5c-ba7e-19984997ac75",
   "metadata": {},
   "outputs": [],
   "source": []
  },
  {
   "cell_type": "code",
   "execution_count": 7,
   "id": "890bb640-97ac-4c2a-b168-f003a12e8ac1",
   "metadata": {},
   "outputs": [],
   "source": [
    "# def h2o_energy_balance(x):\n",
    "#     T_in, T_fin = x\n",
    "#     rho = 1/FCP.state(['T','p'],[T_in,1],fluid='water',Eh='CBar')['v']\n",
    "#     T_water = np.linspace(T_in, T_fin, t_cook)\n",
    "#     T_pasta = np.linspace(T_pasta_in, T_pasta_fin, t_cook)\n",
    "#     Q = 0\n",
    "#     for t in range(0,t_cook):\n",
    "#         Q = Q + (T_water[t]-T_source)/R_h2o_env + (T_water[t]-T_pasta[t])/R_h2o_pasta\n",
    "#     return np.abs(rho*cp_h2o*V*(T_water[0] - T_water[-1]) - Q)\n",
    "\n",
    "# def h2o_constraint(x):\n",
    "#     T_in, T_fin = x\n",
    "#     return T_in - T_fin"
   ]
  },
  {
   "cell_type": "code",
   "execution_count": 8,
   "id": "cb89650f-9d42-4412-87c2-db87dbd03c36",
   "metadata": {},
   "outputs": [],
   "source": [
    "# t = linspace(0,t_cook, t_cook+1)\n",
    "# print(t)"
   ]
  },
  {
   "cell_type": "code",
   "execution_count": 9,
   "id": "226f7353-6c3b-430a-a132-a419650052a8",
   "metadata": {},
   "outputs": [],
   "source": [
    "# NC1 = NonlinearConstraint(h2o_constraint, 0, np.inf)\n",
    "# bounds = [(85,93),(85,93)]\n",
    "# x0 = [91,87]\n",
    "# res = minimize(h2o_energy_balance, x0, method='SLSQP', bounds=bounds, constraints=[NC1])\n",
    "# print(res.x)\n",
    "# print(res.fun)"
   ]
  },
  {
   "cell_type": "code",
   "execution_count": 10,
   "id": "8ba23b09-8fe7-4c52-b0c1-a59c33146b0a",
   "metadata": {},
   "outputs": [],
   "source": [
    "# def h2o_final_temperature(T):\n",
    "#     rho = 1/FCP.state(['T','p'],[T,1],fluid='water',Eh='CBar')['v']\n",
    "#     dt = 1 # timestep\n",
    "#     for i in t:\n",
    "        "
   ]
  },
  {
   "cell_type": "markdown",
   "id": "a3a542cd",
   "metadata": {},
   "source": [
    "Condenser characteristcs"
   ]
  },
  {
   "cell_type": "code",
   "execution_count": 73,
   "id": "872a4343",
   "metadata": {},
   "outputs": [
    {
     "name": "stdout",
     "output_type": "stream",
     "text": [
      "Number od tubes:  32.09580838323354\n",
      "Total area of tubes:  0.30552571520994104\n",
      "effective straight length = 15.32 m\n"
     ]
    }
   ],
   "source": [
    "w = 0.27 # m\n",
    "l = 0.47 # m\n",
    "d_out = 6.35e-3\n",
    "t_tube = 0.83e-3\n",
    "d_in = d_out - 2*t_tube \n",
    "spacing = 2e-3\n",
    "A_corner = 4 *pi*pi * (d_out/2) * ((d_out+spacing)/2)\n",
    "L_straight = l - 2*spacing - 2*(spacing/2 + d_out)\n",
    "A_straight = 2 * pi * (d_out/2) * L_straight\n",
    "edge = (spacing/2) + d_out\n",
    "A_edge = 2 * pi * (d_out/2) * edge\n",
    "\n",
    "n = (w-spacing)/(d_out+spacing) \n",
    "A_tot = 2*(A_straight+A_edge) + (n-1)*A_corner + (n-2)*A_straight\n",
    "\n",
    "L_eff = A_tot / (pi * d_out)\n",
    "\n",
    "print('Number od tubes: ', n)\n",
    "print('Total area of tubes: ', A_tot)\n",
    "print(f\"effective straight length = {L_eff:.2f} m\")\n",
    "\n",
    "\n"
   ]
  },
  {
   "cell_type": "markdown",
   "id": "ef496b1c",
   "metadata": {},
   "source": [
    "Calcualte resistances "
   ]
  },
  {
   "cell_type": "code",
   "execution_count": 190,
   "id": "17e857cc",
   "metadata": {},
   "outputs": [],
   "source": [
    "# Heat transfer coefficients\n",
    "\n",
    "# The thermal conductivity of 316L stainless steel (SS) seamless tubing, which is covered by ASTM A269\n",
    "lambda_steel = 16.3 # W/m K,\n",
    "\n",
    "# air\n",
    "h_air=300      # W/m² K,\n",
    "\n",
    "# refrigerant \n",
    "h_refVL = 2000 # W/m² K,\n",
    "h_refV = 200   # W/m² K, \n",
    "h_refL = 1000  # W/m² K,\n",
    "\n",
    "# water\n",
    "h_h2o = 1000   # W/m² K,\n",
    "T_sink_in = 20 # °C, initial water temperature in the morning\n",
    "\n",
    "#  Assumptions for T_ev and T_co\n",
    "# T_ev = 5  # °C, evaporator temperature\n",
    "# T_co = 40 # °C, condenser temperature\n",
    "delta_T_sh = 10 # °C, superheating temperature difference\n",
    "delta_T_sc = 5 # °C, subcooling temperature difference\n",
    "fluid=\"Butene\" # refrigerant used in the heat pump\n",
    "Eh=\"CBar\"\n",
    "pinch = 0.5 # °C, pinch point temperature difference\n"
   ]
  },
  {
   "cell_type": "code",
   "execution_count": 191,
   "id": "b7c51fdf",
   "metadata": {},
   "outputs": [],
   "source": [
    "#thermal resistance times tube length for convective heat transfer\n",
    "def calc_RL_conv(h,d):\n",
    "    R_L_conv=1./(h*pi*d) #mK/W\n",
    "    return R_L_conv\n",
    "\n",
    "#thermal resistance times tube length for conductive heat transfer\n",
    "def calc_RL_cond(lambda_w,d_w,d_out,d_i):\n",
    "    R_L_cond= d_w/(lambda_w*((d_out-d_i)/(log(d_out/d_i)))*pi) #mK/W\n",
    "    return R_L_cond"
   ]
  },
  {
   "cell_type": "code",
   "execution_count": 192,
   "id": "252d9491",
   "metadata": {},
   "outputs": [],
   "source": [
    "#convective heat transfer inner tube wall\n",
    "R_L_h_refV=calc_RL_conv(h_refV,d_in)\n",
    "#convective heat transfer inner tube wall\n",
    "R_L_h_refVL=calc_RL_conv(h_refVL,d_in)\n",
    "#conductive heat transfer through wall\n",
    "R_L_lambda=calc_RL_cond(lambda_steel,t_tube, d_out,d_in)\n",
    "#convective heat transfer outer tube wall\n",
    "R_L_h_h2o=calc_RL_conv(h_h2o,d_out)\n",
    "#liquid refr convective heat transfer outer tube wall\n",
    "R_L_h_refL=calc_RL_conv(h_refL,d_out)\n",
    "\n",
    "\n",
    "R_L_co_vl = R_L_h_refVL + R_L_lambda + R_L_h_h2o\n",
    "\n",
    "R_L_co_v = R_L_h_refV + R_L_lambda + R_L_h_h2o\n",
    "\n",
    "R_L_co_l = R_L_h_refL + R_L_lambda + R_L_h_h2o\n"
   ]
  },
  {
   "cell_type": "code",
   "execution_count": 193,
   "id": "b07e1ace",
   "metadata": {},
   "outputs": [],
   "source": [
    "def cycle_states (param, D, fluid):\n",
    "#state 1*: evaporator: T1=T_ev and x1=1.0 (saturated vapor)\n",
    "    T_ev, T_co, delta_T_sh, delta_T_sc = param\n",
    "    state1_sat=FCP.state([\"T\",\"x\"],[T_ev,1.0],fluid,Eh)\n",
    "    #state 1: outlet evaporator: T1=T_ev+delta_T_sh and p1=p1_sat\n",
    "    if delta_T_sh>0.:\n",
    "        state1=FCP.state([\"T\",\"p\"],[T_ev+delta_T_sh+0.1,state1_sat[\"p\"]],fluid,Eh)\n",
    "    else:\n",
    "        state1=state1_sat\n",
    "\n",
    "    #state 3: outlet condenser: T3=T_co and x3=0.0 (boiling liquid)\n",
    "    state3_sat=FCP.state([\"T\",\"x\"],[T_co,0.0],fluid,Eh)\n",
    "    #state 3: outlet condenser: T3=T_co-delta_T_sc and p3=p3_stat\n",
    "    if delta_T_sc>0.:\n",
    "        state3=FCP.state([\"T\",\"p\"],[T_co-delta_T_sc-0.1,state3_sat[\"p\"]],fluid,Eh)\n",
    "    else:\n",
    "        state3=state3_sat\n",
    "\n",
    "    #state 2s: isentropic compressor: p2s=p_co=p3 and s2s=s1 \n",
    "    state2s=FCP.state([\"p\",\"s\"],[state3[\"p\"],state1[\"s\"]],fluid,Eh)\n",
    "    #enthalpy h2 is calulated using the compressor efficiency eta_is\n",
    "    \n",
    "\n",
    "    param1 = np.concatenate((param, [D]))\n",
    "    # print('param1:',param1)\n",
    "    eta_is, m_dot = recip_comp_SP(param1, fluid, transcrit=False)\n",
    "\n",
    "    # print(\"\\nDEBUG --- compressor state:\")\n",
    "    # print(\"h1 =\", state1[\"h\"])\n",
    "    # print(\"h2s =\", state2s[\"h\"])\n",
    "    # print(\"eta_is =\", eta_is)\n",
    "    # print(\"m_dot =\", m_dot)\n",
    "        \n",
    "\n",
    "    h2=state1[\"h\"]+(state2s[\"h\"]-state1[\"h\"])/eta_is\n",
    "    # print(\"h2 =\", h2)\n",
    "    \n",
    "    #state 2: outlet compressor: p2=p_co=p3 and h2\n",
    "    state2=FCP.state([\"p\",\"h\"],[state3[\"p\"],h2],fluid,Eh)\n",
    "\n",
    "    Q_dot_cond = m_dot * (state2[\"h\"] - state3[\"h\"])\n",
    "    W_dot_comp = m_dot * (state2[\"h\"] - state1[\"h\"])\n",
    "    \n",
    "    # print(\"Q_dot_cond =\", Q_dot_cond)\n",
    "    \n",
    "    COP     = Q_dot_cond / W_dot_comp\n",
    "\n",
    "    #state 4: outlet throttle: p4=p_ev=p1 and h4=h3 (isenthalpic throttle)\n",
    "    state4=FCP.state([\"p\",\"h\"],[state1[\"p\"],state3[\"h\"]],fluid,Eh)\n",
    "    \n",
    "    return {\"1\": state1, \"2\": state2, \"3\": state3, \"4\": state4,\n",
    "            \"T_ev\": T_ev, \"T_co\": T_co,\n",
    "            \"m_dot\": m_dot, \"η_is\": eta_is,\n",
    "            \"Q_cond\": Q_dot_cond, \"W_comp\": W_dot_comp,\n",
    "            \"COP\": COP,\n",
    "            \"fluid\": fluid}\n"
   ]
  },
  {
   "cell_type": "code",
   "execution_count": 194,
   "id": "420f6f92",
   "metadata": {},
   "outputs": [],
   "source": [
    "def pinch_con(states):\n",
    "    T3, T2 = states[\"3\"][\"T\"], states[\"2\"][\"T\"]\n",
    "    # sink water is assumed single-pass, no temp rise\n",
    "    delta_T_out  = T3 - T_min_h2o\n",
    "    delta_T_in   = T2 - T_min_h2o\n",
    "    delta_T_dew  = states[\"T_co\"] - T_min_h2o\n",
    "    return np.array([delta_T_in, delta_T_out, delta_T_dew])"
   ]
  },
  {
   "cell_type": "code",
   "execution_count": 195,
   "id": "05c94722",
   "metadata": {},
   "outputs": [],
   "source": [
    "def pinch_evap(states):\n",
    "    T1, T4 = states[\"1\"][\"T\"], states[\"4\"][\"T\"]\n",
    "    delta_T_out = T_source - T1\n",
    "    delta_T_in  = T_source - T4                 # source side once-through\n",
    "    return np.array([delta_T_in, delta_T_out])"
   ]
  },
  {
   "cell_type": "code",
   "execution_count": 196,
   "id": "1476647b",
   "metadata": {},
   "outputs": [],
   "source": [
    "def objective(param):\n",
    "    st = cycle_states(param, D, fluid)\n",
    "    return (st[\"Q_cond\"] - Q_star)**2          # least-squares target"
   ]
  },
  {
   "cell_type": "code",
   "execution_count": 197,
   "id": "75f8d9a5",
   "metadata": {},
   "outputs": [],
   "source": [
    "def pinch_wrapper(param):\n",
    "    st = cycle_states(param, D, fluid)\n",
    "    delta_T_co = pinch_con(st)\n",
    "    delta_T_ev = pinch_evap(st)\n",
    "    return np.hstack((delta_T_co, delta_T_ev))"
   ]
  },
  {
   "cell_type": "code",
   "execution_count": 198,
   "id": "45d1d1ed",
   "metadata": {},
   "outputs": [
    {
     "name": "stdout",
     "output_type": "stream",
     "text": [
      "\n",
      "\n",
      "Running cycle with D=35 mm, fluid=Isobutane\n",
      "\n",
      "\n",
      "Running cycle with D=35 mm, fluid=Butane\n",
      "\n",
      "\n",
      "Running cycle with D=35 mm, fluid=Isobutene\n",
      "\n",
      "\n",
      "Running cycle with D=40 mm, fluid=Isobutane\n",
      "\n",
      "\n",
      "Running cycle with D=40 mm, fluid=Butane\n",
      "\n",
      "\n",
      "Running cycle with D=40 mm, fluid=Isobutene\n",
      "\n",
      "\n",
      "Running cycle with D=45 mm, fluid=Isobutane\n",
      "\n",
      "\n",
      "Running cycle with D=45 mm, fluid=Butane\n",
      "\n",
      "\n",
      "Running cycle with D=45 mm, fluid=Isobutene\n",
      "\n",
      "\n",
      "Running cycle with D=50 mm, fluid=Isobutane\n",
      "\n",
      "\n",
      "Running cycle with D=50 mm, fluid=Butane\n",
      "\n",
      "\n",
      "Running cycle with D=50 mm, fluid=Isobutene\n",
      "        Fluid  D (mm)  T_ev (°C)  T_co (°C)  Superheat (°C)  Subcooling (°C)  \\\n",
      "0   Isobutane      35   9.259476  87.600341        5.434617     1.999674e+00   \n",
      "1      Butane      35  16.627858  86.901083        2.772142     1.301083e+00   \n",
      "2   Isobutene      35  10.598130  87.479729        5.350801     1.878944e+00   \n",
      "3   Isobutane      40   3.783253  89.331486        4.878655     7.869596e-01   \n",
      "4      Butane      40   9.723722  87.488290        5.345454     1.887019e+00   \n",
      "5   Isobutene      40   4.527020  88.257217        4.971517     1.798276e+00   \n",
      "6   Isobutane      45   2.065834  90.560447        4.710461     0.000000e+00   \n",
      "7      Butane      45   4.554146  88.223673        4.968601     1.836284e+00   \n",
      "8   Isobutene      45   0.714748  91.432549        4.737143     4.642652e-03   \n",
      "9   Isobutane      50  -3.705757  94.861599        3.588614     1.906320e-08   \n",
      "10     Butane      50   1.416037  91.446533        4.682297     5.134318e-08   \n",
      "11  Isobutene      50  -2.764156  93.766768        4.319105     0.000000e+00   \n",
      "\n",
      "    m_dot (kg/s)  W_comp (kW)  Q_cond (kW)       COP  \n",
      "0       0.014104     1.741760     3.931516  2.257209  \n",
      "1       0.012551     1.504282     3.941328  2.620072  \n",
      "2       0.011939     1.624127     3.929530  2.419472  \n",
      "3       0.014115     1.996025     3.942188  1.975019  \n",
      "4       0.011842     1.702014     3.935450  2.312231  \n",
      "5       0.011575     1.829453     3.936681  2.151835  \n",
      "6       0.016190     2.412286     4.496742  1.864100  \n",
      "7       0.011459     1.895380     3.936798  2.077049  \n",
      "8       0.011463     2.076079     3.936861  1.896296  \n",
      "9       0.013665     2.478674     3.927473  1.584506  \n",
      "10      0.011360     2.134385     3.932114  1.842270  \n",
      "11      0.011005     2.282345     3.932813  1.723146  \n"
     ]
    }
   ],
   "source": [
    "# bounds: keep the search in physically sensible region\n",
    "min_sh = 2  # °C, minimum superheating\n",
    "max_sh = 12 # °C, maximum superheating\n",
    "min_sc = 0  # °C, minimum subcooling\n",
    "max_sc = 10 # °C, maximum subcooling\n",
    "\n",
    "\n",
    "\n",
    "bnds = Bounds(\n",
    "    [-10, T_min_h2o, min_sh, min_sc],  # lower bounds\n",
    "    [T_source, 100,     max_sh, max_sc]  # upper bounds\n",
    ")\n",
    "\n",
    "nlc  = NonlinearConstraint(pinch_wrapper,\n",
    "                           lb=np.full(5, pinch),\n",
    "                           ub=np.full(5, np.inf))\n",
    "\n",
    "# initial guess\n",
    "T_ev = 5   # °C, evaporator temperature\n",
    "T_co = 85  # °C, condenser temperature\n",
    "delta_T_sh = 5  # °C, superheating temperature difference\n",
    "delta_T_sc = 5   # °C, subcooling temperature difference\n",
    "\n",
    "Ds = [35,40,45,50]  # mm, diameter of the compressor (35 mm)\n",
    "fluids = [\"Isobutane\", \"Butane\", \"Isobutene\"]  # refrigerant used in the heat pump\n",
    "COP_matrix = np.zeros((len(fluids), len(Ds)))\n",
    "results = []\n",
    "\n",
    "for i_d, D in enumerate(Ds):\n",
    "    for i_f, fluid in enumerate(fluids):\n",
    "        x0 = np.array([T_ev, T_co, delta_T_sh, delta_T_sc])\n",
    "\n",
    "        print(f\"\\n\\nRunning cycle with D={D} mm, fluid={fluid}\")\n",
    "        try:\n",
    "            st = cycle_states(x0,D, fluid)\n",
    "            res  = minimize(objective, x0,\n",
    "                            method=\"SLSQP\",\n",
    "                            bounds=bnds,\n",
    "                            constraints=[nlc],\n",
    "                            options={\"ftol\": 1e-4})\n",
    "            \n",
    "            st = cycle_states(res.x, D, fluid)\n",
    "\n",
    "            # Store COP in matrix for plotting\n",
    "            COP_matrix[i_f, i_d] = st[\"COP\"]\n",
    "\n",
    "            # Store full results for DataFrame\n",
    "            results.append({\n",
    "                \"Fluid\": fluid,\n",
    "                \"D (mm)\": D,\n",
    "                \"T_ev (°C)\": res.x[0],\n",
    "                \"T_co (°C)\": res.x[1],\n",
    "                \"Superheat (°C)\": res.x[2],\n",
    "                \"Subcooling (°C)\": res.x[3],\n",
    "                \"m_dot (kg/s)\": st[\"m_dot\"],\n",
    "                \"W_comp (kW)\": st[\"W_comp\"],\n",
    "                \"Q_cond (kW)\": st[\"Q_cond\"],\n",
    "                \"COP\": st[\"COP\"]\n",
    "            })\n",
    "\n",
    "        except Exception as e:\n",
    "            print(f\"Failed for D={D}, fluid={fluid} → {e}\")\n",
    "            COP_matrix[i_f, i_d] = np.nan\n",
    "\n",
    "\n",
    "df_results = pd.DataFrame(results)\n",
    "print(df_results)"
   ]
  },
  {
   "cell_type": "code",
   "execution_count": 178,
   "id": "73c56c94",
   "metadata": {},
   "outputs": [
    {
     "name": "stdout",
     "output_type": "stream",
     "text": [
      "COP:  1.9227299496819366\n",
      "T_ev, T_co, delta_T_sh, delta_T_sc = 0.8762034973972597 90.58181454323808 4.7611567375709996 0.0\n"
     ]
    },
    {
     "data": {
      "image/png": "[encoded data removed]",
      "text/plain": [
       "<Figure size 1200x800 with 1 Axes>"
      ]
     },
     "metadata": {},
     "output_type": "display_data"
    }
   ],
   "source": [
    "st = cycle_states(res.x, D, fluid)\n",
    "print(\"COP: \", st[\"COP\"])\n",
    "print(\"T_ev, T_co, delta_T_sh, delta_T_sc =\", st[\"T_ev\"], st[\"T_co\"], res.x[2], res.x[3])\n",
    "Diag.Th(st[\"1\"],st[\"2\"],st[\"3\"],st[\"4\"],[T_min_h2o,T_min_h2o],[T_source,T_source],fluid,Eh)\n",
    "\n",
    "# print(st)\n",
    "# param1 = [T_ev, T_co, delta_T_sh, delta_T_sc, diameter in mm]  # T_ev, T_co, delta_T_sh, delta_T_sc, D\n",
    "# param1 =[30, 40, 5, 0, 40]\n",
    "# print('param1:',param1)\n",
    "# eta_is, m_dot = recip_comp_SP(param1, fluid, transcrit=False)\n",
    "# print(\"m_dot (kg/s)       =\", m_dot)\n",
    "# print(\"η_is               =\", eta_is)\n",
    "# print(\"fluid              =\", fluid)\n",
    "\n"
   ]
  },
  {
   "cell_type": "code",
   "execution_count": 199,
   "id": "80956ae5",
   "metadata": {},
   "outputs": [
    {
     "name": "stdout",
     "output_type": "stream",
     "text": [
      "17.842369532561563\n",
      "28.235466003976565\n"
     ]
    }
   ],
   "source": [
    "T_ev_opt = res.x[0]  # optimal evaporator temperature\n",
    "T_co_opt = res.x[1]  # optimal condenser temperature\n",
    "delta_T_vl = T_co_opt - T_min_h2o\n",
    "T2 = st[\"2\"][\"T\"]\n",
    "delta_T_v = (T2 - T_co_opt) / (log((T2-T_min_h2o)/(T_co_opt-T_min_h2o)))\n",
    "\n",
    "T3_x0=FCP.state([\"T\",\"x\"],[T_co_opt,1],fluid,Eh)[\"T\"]\n",
    "# delta_T_l = ()\n",
    "h3_x1=FCP.state([\"T\",\"x\"],[T_co_opt,1],fluid,Eh)[\"h\"]\n",
    "h3_x0=FCP.state([\"T\",\"x\"],[T_co_opt,0],fluid,Eh)[\"h\"]\n",
    "\n",
    "Q_dot_l = st[\"m_dot\"] * (h3_x0 - st[\"3\"][\"h\"]) # kW, heat transfer in the condenser liquid line\n",
    "Q_dot_vl = st[\"m_dot\"] * (h3_x1 - h3_x0) # kW, heat transfer in the condenser vapor/liquid line\n",
    "Q_dot_v = st[\"m_dot\"] * (st[\"2\"][\"h\"] - h3_x1) # kW, heat transfer in the condenser vapor line\n",
    "Q_dot_tot = Q_dot_vl + Q_dot_v\n",
    "\n",
    "# print(Q_dot_l)\n",
    "# print(delta_T_vl)\n",
    "\n",
    "# print(R_L_co_v)\n",
    "# print(R_L_co_vl)\n",
    "# print(Q_dot_v)\n",
    "\n",
    "L_vl = (R_L_co_vl * Q_dot_vl *1000) / delta_T_vl\n",
    "L_v = (R_L_co_v * Q_dot_v *1000) / delta_T_v\n",
    "# L_l = (R_L_co_l * Q_dot_l *1000) / delta_T_l\n",
    "print(L_v)\n",
    "print(L_vl)\n"
   ]
  },
  {
   "cell_type": "code",
   "execution_count": 203,
   "id": "21340863",
   "metadata": {},
   "outputs": [
    {
     "name": "stderr",
     "output_type": "stream",
     "text": [
      "/var/folders/jv/wwh_hms11m3blxjgltrjv4580000gn/T/ipykernel_30035/2440764513.py:27: UserWarning:\n",
      "\n",
      "Tight layout not applied. The left and right margins cannot be made large enough to accommodate all axes decorations.\n",
      "\n"
     ]
    },
    {
     "data": {
      "image/png": "[encoded data removed]",
      "text/plain": [
       "<Figure size 1000x700 with 2 Axes>"
      ]
     },
     "metadata": {},
     "output_type": "display_data"
    }
   ],
   "source": [
    "# Create mesh grid\n",
    "X, Y = np.meshgrid(Ds, range(len(fluids)))\n",
    "Z = COP_matrix\n",
    "\n",
    "fig = plt.figure(figsize=(10, 7))\n",
    "ax = fig.add_subplot(111, projection='3d')\n",
    "\n",
    "# Surface\n",
    "surf = ax.plot_surface(X, Y, Z, cmap=cm.viridis, edgecolor='k', linewidth=0.4, antialiased=True)\n",
    "\n",
    "# Axis labels\n",
    "ax.set_xlabel(\"Compressor Diameter D (mm)\", labelpad=10, fontsize=12)\n",
    "ax.set_ylabel(\"Refrigerant\", labelpad=10, fontsize=12)\n",
    "ax.set_zlabel(\"COP\", labelpad=10, fontsize=12)\n",
    "\n",
    "# Replace fluid index with names\n",
    "ax.set_yticks(range(len(fluids)))\n",
    "ax.set_yticklabels(fluids, fontsize=11)\n",
    "\n",
    "# Title and color bar\n",
    "ax.set_title(\"COP vs Compressor Size and Refrigerant\", fontsize=14, pad=15)\n",
    "fig.colorbar(surf, ax=ax, shrink=0.5, aspect=10, label=\"COP\")\n",
    "\n",
    "# Optional: adjust view angle for better clarity\n",
    "ax.view_init(elev=10, azim=40)\n",
    "\n",
    "plt.tight_layout()\n",
    "plt.show()"
   ]
  },
  {
   "cell_type": "code",
   "execution_count": 180,
   "id": "724940b5",
   "metadata": {},
   "outputs": [
    {
     "data": {
      "application/vnd.plotly.v1+json": {
       "config": {
        "plotlyServerURL": "https://plot.ly"
       },
       "data": [
        {
         "colorbar": {
          "title": {
           "text": "COP"
          }
         },
         "colorscale": [
          [
           0,
           "#440154"
          ],
          [
           0.1111111111111111,
           "#482878"
          ],
          [
           0.2222222222222222,
           "#3e4989"
          ],
          [
           0.3333333333333333,
           "#31688e"
          ],
          [
           0.4444444444444444,
           "#26828e"
          ],
          [
           0.5555555555555556,
           "#1f9e89"
          ],
          [
           0.6666666666666666,
           "#35b779"
          ],
          [
           0.7777777777777778,
           "#6ece58"
          ],
          [
           0.8888888888888888,
           "#b5de2b"
          ],
          [
           1,
           "#fde725"
          ]
         ],
         "contours": {
          "z": {
           "color": "white",
           "end": 2.461298536584283,
           "show": true,
           "size": 0.2,
           "start": 1.6392417442670253
          }
         },
         "showscale": true,
         "type": "surface",
         "x": {
          "bdata": "IygtMiMoLTIjKC0y",
          "dtype": "i1",
          "shape": "3, 4"
         },
         "y": {
          "bdata": "AAAAAAEBAQECAgIC",
          "dtype": "i1",
          "shape": "3, 4"
         },
         "z": {
          "bdata": "FT4OpYMWAUCJ+qDaPUj9P4HWHY1VOvo/jZo9b/Wv+j/Gk4JJvbADQJ/vM02tdwFALzNXb8Wq/j97Xjdiafz9P7eKGf/WUQJAwvDgshgAAEDFBO0Ow3j8Pz7HznqAw/4/",
          "dtype": "f8",
          "shape": "3, 4"
         }
        }
       ],
       "layout": {
        "autosize": true,
        "height": 600,
        "margin": {
         "b": 40,
         "l": 40,
         "r": 40,
         "t": 60
        },
        "scene": {
         "camera": {
          "eye": {
           "x": 1.5,
           "y": 1.2,
           "z": 0.8
          }
         },
         "xaxis": {
          "title": {
           "text": "Compressor Diameter D (mm)"
          }
         },
         "yaxis": {
          "ticktext": [
           "Isobutane",
           "Butane",
           "Isobutene"
          ],
          "tickvals": [
           0,
           1,
           2
          ],
          "title": {
           "text": "Refrigerant"
          }
         },
         "zaxis": {
          "title": {
           "text": "COP"
          }
         }
        },
        "template": {
         "data": {
          "bar": [
           {
            "error_x": {
             "color": "#2a3f5f"
            },
            "error_y": {
             "color": "#2a3f5f"
            },
            "marker": {
             "line": {
              "color": "#E5ECF6",
              "width": 0.5
             },
             "pattern": {
              "fillmode": "overlay",
              "size": 10,
              "solidity": 0.2
             }
            },
            "type": "bar"
           }
          ],
          "barpolar": [
           {
            "marker": {
             "line": {
              "color": "#E5ECF6",
              "width": 0.5
             },
             "pattern": {
              "fillmode": "overlay",
              "size": 10,
              "solidity": 0.2
             }
            },
            "type": "barpolar"
           }
          ],
          "carpet": [
           {
            "aaxis": {
             "endlinecolor": "#2a3f5f",
             "gridcolor": "white",
             "linecolor": "white",
             "minorgridcolor": "white",
             "startlinecolor": "#2a3f5f"
            },
            "baxis": {
             "endlinecolor": "#2a3f5f",
             "gridcolor": "white",
             "linecolor": "white",
             "minorgridcolor": "white",
             "startlinecolor": "#2a3f5f"
            },
            "type": "carpet"
           }
          ],
          "choropleth": [
           {
            "colorbar": {
             "outlinewidth": 0,
             "ticks": ""
            },
            "type": "choropleth"
           }
          ],
          "contour": [
           {
            "colorbar": {
             "outlinewidth": 0,
             "ticks": ""
            },
            "colorscale": [
             [
              0,
              "#0d0887"
             ],
             [
              0.1111111111111111,
              "#46039f"
             ],
             [
              0.2222222222222222,
              "#7201a8"
             ],
             [
              0.3333333333333333,
              "#9c179e"
             ],
             [
              0.4444444444444444,
              "#bd3786"
             ],
             [
              0.5555555555555556,
              "#d8576b"
             ],
             [
              0.6666666666666666,
              "#ed7953"
             ],
             [
              0.7777777777777778,
              "#fb9f3a"
             ],
             [
              0.8888888888888888,
              "#fdca26"
             ],
             [
              1,
              "#f0f921"
             ]
            ],
            "type": "contour"
           }
          ],
          "contourcarpet": [
           {
            "colorbar": {
             "outlinewidth": 0,
             "ticks": ""
            },
            "type": "contourcarpet"
           }
          ],
          "heatmap": [
           {
            "colorbar": {
             "outlinewidth": 0,
             "ticks": ""
            },
            "colorscale": [
             [
              0,
              "#0d0887"
             ],
             [
              0.1111111111111111,
              "#46039f"
             ],
             [
              0.2222222222222222,
              "#7201a8"
             ],
             [
              0.3333333333333333,
              "#9c179e"
             ],
             [
              0.4444444444444444,
              "#bd3786"
             ],
             [
              0.5555555555555556,
              "#d8576b"
             ],
             [
              0.6666666666666666,
              "#ed7953"
             ],
             [
              0.7777777777777778,
              "#fb9f3a"
             ],
             [
              0.8888888888888888,
              "#fdca26"
             ],
             [
              1,
              "#f0f921"
             ]
            ],
            "type": "heatmap"
           }
          ],
          "histogram": [
           {
            "marker": {
             "pattern": {
              "fillmode": "overlay",
              "size": 10,
              "solidity": 0.2
             }
            },
            "type": "histogram"
           }
          ],
          "histogram2d": [
           {
            "colorbar": {
             "outlinewidth": 0,
             "ticks": ""
            },
            "colorscale": [
             [
              0,
              "#0d0887"
             ],
             [
              0.1111111111111111,
              "#46039f"
             ],
             [
              0.2222222222222222,
              "#7201a8"
             ],
             [
              0.3333333333333333,
              "#9c179e"
             ],
             [
              0.4444444444444444,
              "#bd3786"
             ],
             [
              0.5555555555555556,
              "#d8576b"
             ],
             [
              0.6666666666666666,
              "#ed7953"
             ],
             [
              0.7777777777777778,
              "#fb9f3a"
             ],
             [
              0.8888888888888888,
              "#fdca26"
             ],
             [
              1,
              "#f0f921"
             ]
            ],
            "type": "histogram2d"
           }
          ],
          "histogram2dcontour": [
           {
            "colorbar": {
             "outlinewidth": 0,
             "ticks": ""
            },
            "colorscale": [
             [
              0,
              "#0d0887"
             ],
             [
              0.1111111111111111,
              "#46039f"
             ],
             [
              0.2222222222222222,
              "#7201a8"
             ],
             [
              0.3333333333333333,
              "#9c179e"
             ],
             [
              0.4444444444444444,
              "#bd3786"
             ],
             [
              0.5555555555555556,
              "#d8576b"
             ],
             [
              0.6666666666666666,
              "#ed7953"
             ],
             [
              0.7777777777777778,
              "#fb9f3a"
             ],
             [
              0.8888888888888888,
              "#fdca26"
             ],
             [
              1,
              "#f0f921"
             ]
            ],
            "type": "histogram2dcontour"
           }
          ],
          "mesh3d": [
           {
            "colorbar": {
             "outlinewidth": 0,
             "ticks": ""
            },
            "type": "mesh3d"
           }
          ],
          "parcoords": [
           {
            "line": {
             "colorbar": {
              "outlinewidth": 0,
              "ticks": ""
             }
            },
            "type": "parcoords"
           }
          ],
          "pie": [
           {
            "automargin": true,
            "type": "pie"
           }
          ],
          "scatter": [
           {
            "fillpattern": {
             "fillmode": "overlay",
             "size": 10,
             "solidity": 0.2
            },
            "type": "scatter"
           }
          ],
          "scatter3d": [
           {
            "line": {
             "colorbar": {
              "outlinewidth": 0,
              "ticks": ""
             }
            },
            "marker": {
             "colorbar": {
              "outlinewidth": 0,
              "ticks": ""
             }
            },
            "type": "scatter3d"
           }
          ],
          "scattercarpet": [
           {
            "marker": {
             "colorbar": {
              "outlinewidth": 0,
              "ticks": ""
             }
            },
            "type": "scattercarpet"
           }
          ],
          "scattergeo": [
           {
            "marker": {
             "colorbar": {
              "outlinewidth": 0,
              "ticks": ""
             }
            },
            "type": "scattergeo"
           }
          ],
          "scattergl": [
           {
            "marker": {
             "colorbar": {
              "outlinewidth": 0,
              "ticks": ""
             }
            },
            "type": "scattergl"
           }
          ],
          "scattermap": [
           {
            "marker": {
             "colorbar": {
              "outlinewidth": 0,
              "ticks": ""
             }
            },
            "type": "scattermap"
           }
          ],
          "scattermapbox": [
           {
            "marker": {
             "colorbar": {
              "outlinewidth": 0,
              "ticks": ""
             }
            },
            "type": "scattermapbox"
           }
          ],
          "scatterpolar": [
           {
            "marker": {
             "colorbar": {
              "outlinewidth": 0,
              "ticks": ""
             }
            },
            "type": "scatterpolar"
           }
          ],
          "scatterpolargl": [
           {
            "marker": {
             "colorbar": {
              "outlinewidth": 0,
              "ticks": ""
             }
            },
            "type": "scatterpolargl"
           }
          ],
          "scatterternary": [
           {
            "marker": {
             "colorbar": {
              "outlinewidth": 0,
              "ticks": ""
             }
            },
            "type": "scatterternary"
           }
          ],
          "surface": [
           {
            "colorbar": {
             "outlinewidth": 0,
             "ticks": ""
            },
            "colorscale": [
             [
              0,
              "#0d0887"
             ],
             [
              0.1111111111111111,
              "#46039f"
             ],
             [
              0.2222222222222222,
              "#7201a8"
             ],
             [
              0.3333333333333333,
              "#9c179e"
             ],
             [
              0.4444444444444444,
              "#bd3786"
             ],
             [
              0.5555555555555556,
              "#d8576b"
             ],
             [
              0.6666666666666666,
              "#ed7953"
             ],
             [
              0.7777777777777778,
              "#fb9f3a"
             ],
             [
              0.8888888888888888,
              "#fdca26"
             ],
             [
              1,
              "#f0f921"
             ]
            ],
            "type": "surface"
           }
          ],
          "table": [
           {
            "cells": {
             "fill": {
              "color": "#EBF0F8"
             },
             "line": {
              "color": "white"
             }
            },
            "header": {
             "fill": {
              "color": "#C8D4E3"
             },
             "line": {
              "color": "white"
             }
            },
            "type": "table"
           }
          ]
         },
         "layout": {
          "annotationdefaults": {
           "arrowcolor": "#2a3f5f",
           "arrowhead": 0,
           "arrowwidth": 1
          },
          "autotypenumbers": "strict",
          "coloraxis": {
           "colorbar": {
            "outlinewidth": 0,
            "ticks": ""
           }
          },
          "colorscale": {
           "diverging": [
            [
             0,
             "#8e0152"
            ],
            [
             0.1,
             "#c51b7d"
            ],
            [
             0.2,
             "#de77ae"
            ],
            [
             0.3,
             "#f1b6da"
            ],
            [
             0.4,
             "#fde0ef"
            ],
            [
             0.5,
             "#f7f7f7"
            ],
            [
             0.6,
             "#e6f5d0"
            ],
            [
             0.7,
             "#b8e186"
            ],
            [
             0.8,
             "#7fbc41"
            ],
            [
             0.9,
             "#4d9221"
            ],
            [
             1,
             "#276419"
            ]
           ],
           "sequential": [
            [
             0,
             "#0d0887"
            ],
            [
             0.1111111111111111,
             "#46039f"
            ],
            [
             0.2222222222222222,
             "#7201a8"
            ],
            [
             0.3333333333333333,
             "#9c179e"
            ],
            [
             0.4444444444444444,
             "#bd3786"
            ],
            [
             0.5555555555555556,
             "#d8576b"
            ],
            [
             0.6666666666666666,
             "#ed7953"
            ],
            [
             0.7777777777777778,
             "#fb9f3a"
            ],
            [
             0.8888888888888888,
             "#fdca26"
            ],
            [
             1,
             "#f0f921"
            ]
           ],
           "sequentialminus": [
            [
             0,
             "#0d0887"
            ],
            [
             0.1111111111111111,
             "#46039f"
            ],
            [
             0.2222222222222222,
             "#7201a8"
            ],
            [
             0.3333333333333333,
             "#9c179e"
            ],
            [
             0.4444444444444444,
             "#bd3786"
            ],
            [
             0.5555555555555556,
             "#d8576b"
            ],
            [
             0.6666666666666666,
             "#ed7953"
            ],
            [
             0.7777777777777778,
             "#fb9f3a"
            ],
            [
             0.8888888888888888,
             "#fdca26"
            ],
            [
             1,
             "#f0f921"
            ]
           ]
          },
          "colorway": [
           "#636efa",
           "#EF553B",
           "#00cc96",
           "#ab63fa",
           "#FFA15A",
           "#19d3f3",
           "#FF6692",
           "#B6E880",
           "#FF97FF",
           "#FECB52"
          ],
          "font": {
           "color": "#2a3f5f"
          },
          "geo": {
           "bgcolor": "white",
           "lakecolor": "white",
           "landcolor": "#E5ECF6",
           "showlakes": true,
           "showland": true,
           "subunitcolor": "white"
          },
          "hoverlabel": {
           "align": "left"
          },
          "hovermode": "closest",
          "mapbox": {
           "style": "light"
          },
          "paper_bgcolor": "white",
          "plot_bgcolor": "#E5ECF6",
          "polar": {
           "angularaxis": {
            "gridcolor": "white",
            "linecolor": "white",
            "ticks": ""
           },
           "bgcolor": "#E5ECF6",
           "radialaxis": {
            "gridcolor": "white",
            "linecolor": "white",
            "ticks": ""
           }
          },
          "scene": {
           "xaxis": {
            "backgroundcolor": "#E5ECF6",
            "gridcolor": "white",
            "gridwidth": 2,
            "linecolor": "white",
            "showbackground": true,
            "ticks": "",
            "zerolinecolor": "white"
           },
           "yaxis": {
            "backgroundcolor": "#E5ECF6",
            "gridcolor": "white",
            "gridwidth": 2,
            "linecolor": "white",
            "showbackground": true,
            "ticks": "",
            "zerolinecolor": "white"
           },
           "zaxis": {
            "backgroundcolor": "#E5ECF6",
            "gridcolor": "white",
            "gridwidth": 2,
            "linecolor": "white",
            "showbackground": true,
            "ticks": "",
            "zerolinecolor": "white"
           }
          },
          "shapedefaults": {
           "line": {
            "color": "#2a3f5f"
           }
          },
          "ternary": {
           "aaxis": {
            "gridcolor": "white",
            "linecolor": "white",
            "ticks": ""
           },
           "baxis": {
            "gridcolor": "white",
            "linecolor": "white",
            "ticks": ""
           },
           "bgcolor": "#E5ECF6",
           "caxis": {
            "gridcolor": "white",
            "linecolor": "white",
            "ticks": ""
           }
          },
          "title": {
           "x": 0.05
          },
          "xaxis": {
           "automargin": true,
           "gridcolor": "white",
           "linecolor": "white",
           "ticks": "",
           "title": {
            "standoff": 15
           },
           "zerolinecolor": "white",
           "zerolinewidth": 2
          },
          "yaxis": {
           "automargin": true,
           "gridcolor": "white",
           "linecolor": "white",
           "ticks": "",
           "title": {
            "standoff": 15
           },
           "zerolinecolor": "white",
           "zerolinewidth": 2
          }
         }
        },
        "title": {
         "text": "COP vs Compressor Diameter and Refrigerant"
        }
       }
      }
     },
     "metadata": {},
     "output_type": "display_data"
    }
   ],
   "source": [
    "import plotly.graph_objects as go\n",
    "# Prepare data\n",
    "X, Y = np.meshgrid(Ds, range(len(fluids)))  # X: compressor diameters, Y: fluid indices\n",
    "Z = COP_matrix\n",
    "\n",
    "# Create surface plot\n",
    "fig = go.Figure(data=[\n",
    "    go.Surface(\n",
    "        z=Z,\n",
    "        x=X,\n",
    "        y=Y,\n",
    "        colorscale='Viridis',\n",
    "        colorbar=dict(title=\"COP\"),\n",
    "        showscale=True,\n",
    "        contours = {\"z\": {\"show\": True, \"start\": np.nanmin(Z), \"end\": np.nanmax(Z), \"size\": 0.2, \"color\":\"white\"}}\n",
    "    )\n",
    "])\n",
    "\n",
    "# Update axes\n",
    "fig.update_layout(\n",
    "    title=\"COP vs Compressor Diameter and Refrigerant\",\n",
    "    scene=dict(\n",
    "        xaxis=dict(title='Compressor Diameter D (mm)'),\n",
    "        yaxis=dict(title='Refrigerant', tickvals=list(range(len(fluids))), ticktext=fluids),\n",
    "        zaxis=dict(title='COP'),\n",
    "        camera=dict(eye=dict(x=1.5, y=1.2, z=0.8)),\n",
    "    ),\n",
    "    autosize=True,\n",
    "    height=600,\n",
    "    margin=dict(l=40, r=40, t=60, b=40)\n",
    ")\n",
    "\n",
    "fig.show()"
   ]
  },
  {
   "cell_type": "code",
   "execution_count": null,
   "id": "a449720b",
   "metadata": {},
   "outputs": [],
   "source": []
  }
 ],
 "metadata": {
  "colab": {
   "provenance": []
  },
  "kernelspec": {
   "display_name": "ct-env",
   "language": "python",
   "name": "python3"
  },
  "language_info": {
   "codemirror_mode": {
    "name": "ipython",
    "version": 3
   },
   "file_extension": ".py",
   "mimetype": "text/x-python",
   "name": "python",
   "nbconvert_exporter": "python",
   "pygments_lexer": "ipython3",
   "version": "3.11.8"
  }
 },
 "nbformat": 4,
 "nbformat_minor": 5
}
