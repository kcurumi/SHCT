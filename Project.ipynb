{
  "cells": [
    {
      "cell_type": "markdown",
      "id": "896b339b",
      "metadata": {
        "id": "896b339b"
      },
      "source": [
        "Project SHCT"
      ]
    },
    {
      "cell_type": "markdown",
      "id": "d374c67c-9968-4ff8-a05c-6cea83fb0b9a",
      "metadata": {
        "id": "d374c67c-9968-4ff8-a05c-6cea83fb0b9a"
      },
      "source": [
        "Authors: Curumi Klejsi, Querzè Lorenzo  \n",
        "Spring semester 2025"
      ]
    },
    {
      "cell_type": "code",
      "execution_count": 3,
      "id": "3fced4dd-5a3c-45ae-849e-139e83da2f7d",
      "metadata": {
        "id": "3fced4dd-5a3c-45ae-849e-139e83da2f7d",
        "outputId": "ac4fe826-cd9e-4dab-8f02-9ff9c765a1f5",
        "colab": {
          "base_uri": "https://localhost:8080/"
        }
      },
      "outputs": [
        {
          "output_type": "stream",
          "name": "stdout",
          "text": [
            "Cloning into 'SHCT'...\n",
            "remote: Enumerating objects: 36, done.\u001b[K\n",
            "remote: Counting objects: 100% (36/36), done.\u001b[K\n",
            "remote: Compressing objects: 100% (27/27), done.\u001b[K\n",
            "remote: Total 36 (delta 14), reused 19 (delta 6), pack-reused 0 (from 0)\u001b[K\n",
            "Receiving objects: 100% (36/36), 1.57 MiB | 7.13 MiB/s, done.\n",
            "Resolving deltas: 100% (14/14), done.\n",
            "Collecting CoolProp\n",
            "  Downloading coolprop-6.8.0-cp311-cp311-manylinux_2_17_x86_64.manylinux2014_x86_64.whl.metadata (282 bytes)\n",
            "Downloading coolprop-6.8.0-cp311-cp311-manylinux_2_17_x86_64.manylinux2014_x86_64.whl (10.6 MB)\n",
            "\u001b[2K   \u001b[90m━━━━━━━━━━━━━━━━━━━━━━━━━━━━━━━━━━━━━━━━\u001b[0m \u001b[32m10.6/10.6 MB\u001b[0m \u001b[31m63.7 MB/s\u001b[0m eta \u001b[36m0:00:00\u001b[0m\n",
            "\u001b[?25hInstalling collected packages: CoolProp\n",
            "Successfully installed CoolProp-6.8.0\n"
          ]
        }
      ],
      "source": [
        "!git clone https://github.com/kcurumi/SHCT.git\n",
        "!pip install CoolProp\n",
        "import os\n",
        "os.chdir(\"/content/SHCT\")\n",
        "import sys\n",
        "sys.path.append(\"/content/SHCT\")\n",
        "from pylab import *\n",
        "import numpy as np\n",
        "import Fluid_CP as FCP #calculation of  thermodynamic states\n",
        "import matplotlib.pyplot as plt\n",
        "import pandas as pd"
      ]
    },
    {
      "cell_type": "code",
      "execution_count": 4,
      "id": "d37a7707-f19d-4cfa-a220-24ba9a557df5",
      "metadata": {
        "id": "d37a7707-f19d-4cfa-a220-24ba9a557df5"
      },
      "outputs": [],
      "source": [
        "#Eh=   \"SI\"     \"CBar\"   \"CKPa\"\n",
        "#      ¦        ¦        ¦\n",
        "#T     K        C        C\n",
        "#p     Pa       bar      kPa\n",
        "#v     m3/kg    m3/kg    m3/kg\n",
        "#u     J/kg     kJ/kg    kJ/kg\n",
        "#h     J/kg     kJ/kg    kJ/kg\n",
        "#s     J/kg/K   kJ/kg/K  kJ/kg/K\n",
        "#x     kg/kg    kg/kg    kg/kg"
      ]
    },
    {
      "cell_type": "code",
      "execution_count": 5,
      "id": "48bfef5d-1baf-49ca-83cb-d0f1ea90b8ed",
      "metadata": {
        "id": "48bfef5d-1baf-49ca-83cb-d0f1ea90b8ed",
        "outputId": "3a021032-5756-42db-fa38-2298b2f663d8",
        "colab": {
          "base_uri": "https://localhost:8080/"
        }
      },
      "outputs": [
        {
          "output_type": "stream",
          "name": "stdout",
          "text": [
            "molar_mass       0.018015\n",
            "T_crit         373.946000\n",
            "p_crit         220.640000\n",
            "acentric         0.344292\n",
            "T_min            0.010000\n",
            "T_max         1726.850000\n",
            "dtype: float64\n"
          ]
        }
      ],
      "source": [
        "fluid = 'water'\n",
        "Eh = 'CBar'\n",
        "print(FCP.get_fluid_info(fluid,Eh))"
      ]
    },
    {
      "cell_type": "code",
      "execution_count": null,
      "id": "e30627af-6b76-4e5f-bc2f-8c499d8c792e",
      "metadata": {
        "id": "e30627af-6b76-4e5f-bc2f-8c499d8c792e"
      },
      "outputs": [],
      "source": [
        "# vediamo se funziona"
      ]
    }
  ],
  "metadata": {
    "kernelspec": {
      "display_name": "Python 3 (ipykernel)",
      "language": "python",
      "name": "python3"
    },
    "language_info": {
      "codemirror_mode": {
        "name": "ipython",
        "version": 3
      },
      "file_extension": ".py",
      "mimetype": "text/x-python",
      "name": "python",
      "nbconvert_exporter": "python",
      "pygments_lexer": "ipython3",
      "version": "3.12.4"
    },
    "colab": {
      "provenance": []
    }
  },
  "nbformat": 4,
  "nbformat_minor": 5
}