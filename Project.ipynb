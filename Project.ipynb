{
 "cells": [
  {
   "cell_type": "markdown",
   "id": "896b339b",
   "metadata": {},
   "source": [
    "Project SHCT"
   ]
  },
  {
   "cell_type": "markdown",
   "id": "d374c67c-9968-4ff8-a05c-6cea83fb0b9a",
   "metadata": {},
   "source": [
    "Authors: Curumi Klejsi, Querzè Lorenzo  \n",
    "Spring semester 2025"
   ]
  },
  {
   "cell_type": "markdown",
   "id": "23b7f195-3e56-4556-a545-1fbfb51f546d",
   "metadata": {},
   "source": [
    "Bella Kle spacchiamo"
   ]
  },
  {
   "cell_type": "markdown",
   "id": "1143d1c6-f48e-4a6c-95a8-8ca738f0b1a1",
   "metadata": {},
   "source": [
    "Ecco magari questi due commenti inutili cancellali ahahhahah"
   ]
  },
  {
   "cell_type": "code",
   "execution_count": null,
   "id": "3fced4dd-5a3c-45ae-849e-139e83da2f7d",
   "metadata": {},
   "outputs": [],
   "source": []
  }
 ],
 "metadata": {
  "kernelspec": {
   "display_name": "Python 3 (ipykernel)",
   "language": "python",
   "name": "python3"
  },
  "language_info": {
   "codemirror_mode": {
    "name": "ipython",
    "version": 3
   },
   "file_extension": ".py",
   "mimetype": "text/x-python",
   "name": "python",
   "nbconvert_exporter": "python",
   "pygments_lexer": "ipython3",
   "version": "3.12.4"
  }
 },
 "nbformat": 4,
 "nbformat_minor": 5
}
