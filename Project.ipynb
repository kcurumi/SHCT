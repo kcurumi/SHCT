{
 "cells": [
  {
   "cell_type": "markdown",
   "id": "896b339b",
   "metadata": {},
   "source": [
    "Project SHCT"
   ]
  },
  {
   "cell_type": "markdown",
   "id": "d374c67c-9968-4ff8-a05c-6cea83fb0b9a",
   "metadata": {},
   "source": [
    "Authors: Curumi Klejsi, Querzè Lorenzo  \n",
    "Spring semester 2025"
   ]
  },
  {
   "cell_type": "code",
   "execution_count": 1,
   "id": "3fced4dd-5a3c-45ae-849e-139e83da2f7d",
   "metadata": {},
   "outputs": [],
   "source": [
    "from pylab import *\n",
    "import numpy as np\n",
    "import Fluid_CP as FCP #calculation of  thermodynamic states\n",
    "import matplotlib.pyplot as plt\n",
    "import pandas as pd"
   ]
  },
  {
   "cell_type": "code",
   "execution_count": 3,
   "id": "d37a7707-f19d-4cfa-a220-24ba9a557df5",
   "metadata": {},
   "outputs": [],
   "source": [
    "#Eh=   \"SI\"     \"CBar\"   \"CKPa\"  \n",
    "#      ¦        ¦        ¦        \n",
    "#T     K        C        C       \n",
    "#p     Pa       bar      kPa      \n",
    "#v     m3/kg    m3/kg    m3/kg   \n",
    "#u     J/kg     kJ/kg    kJ/kg    \n",
    "#h     J/kg     kJ/kg    kJ/kg    \n",
    "#s     J/kg/K   kJ/kg/K  kJ/kg/K  \n",
    "#x     kg/kg    kg/kg    kg/kg  "
   ]
  },
  {
   "cell_type": "code",
   "execution_count": 5,
   "id": "48bfef5d-1baf-49ca-83cb-d0f1ea90b8ed",
   "metadata": {},
   "outputs": [
    {
     "name": "stdout",
     "output_type": "stream",
     "text": [
      "molar_mass       0.018015\n",
      "T_crit         373.946000\n",
      "p_crit         220.640000\n",
      "acentric         0.344292\n",
      "T_min            0.010000\n",
      "T_max         1726.850000\n",
      "dtype: float64\n"
     ]
    }
   ],
   "source": [
    "fluid = 'water'\n",
    "Eh = 'CBar'\n",
    "print(FCP.get_fluid_info(fluid,Eh))"
   ]
  },
  {
   "cell_type": "code",
   "execution_count": null,
   "id": "e30627af-6b76-4e5f-bc2f-8c499d8c792e",
   "metadata": {},
   "outputs": [],
   "source": []
  }
 ],
 "metadata": {
  "kernelspec": {
   "display_name": "Python 3 (ipykernel)",
   "language": "python",
   "name": "python3"
  },
  "language_info": {
   "codemirror_mode": {
    "name": "ipython",
    "version": 3
   },
   "file_extension": ".py",
   "mimetype": "text/x-python",
   "name": "python",
   "nbconvert_exporter": "python",
   "pygments_lexer": "ipython3",
   "version": "3.12.4"
  }
 },
 "nbformat": 4,
 "nbformat_minor": 5
}
