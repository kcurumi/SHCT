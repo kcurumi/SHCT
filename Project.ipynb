{
  "cells": [
    {
      "cell_type": "markdown",
      "id": "896b339b",
      "metadata": {
        "id": "896b339b"
      },
      "source": [
        "Project SHCT"
      ]
    },
    {
      "cell_type": "markdown",
      "id": "d374c67c-9968-4ff8-a05c-6cea83fb0b9a",
      "metadata": {
        "id": "d374c67c-9968-4ff8-a05c-6cea83fb0b9a"
      },
      "source": [
        "Authors: Curumi Klejsi, Querzè Lorenzo  \n",
        "Spring semester 2025"
      ]
    },
    {
      "cell_type": "code",
      "execution_count": 6,
      "id": "3fced4dd-5a3c-45ae-849e-139e83da2f7d",
      "metadata": {
        "colab": {
          "base_uri": "https://localhost:8080/"
        },
        "id": "3fced4dd-5a3c-45ae-849e-139e83da2f7d",
        "outputId": "c1ccccb9-fa82-4480-9cb8-7c83b536cc05"
      },
      "outputs": [
        {
          "output_type": "stream",
          "name": "stdout",
          "text": [
            "fatal: destination path 'SHCT' already exists and is not an empty directory.\n",
            "Requirement already satisfied: CoolProp in /usr/local/lib/python3.11/dist-packages (6.8.0)\n"
          ]
        }
      ],
      "source": [
        "!git clone https://github.com/kcurumi/SHCT.git\n",
        "!pip install CoolProp\n",
        "import os\n",
        "os.chdir(\"/content/SHCT\")\n",
        "import sys\n",
        "sys.path.append(\"/content/SHCT\")\n",
        "from pylab import *\n",
        "import numpy as np\n",
        "import Fluid_CP as FCP #calculation of  thermodynamic states\n",
        "import matplotlib.pyplot as plt\n",
        "import pandas as pd"
      ]
    },
    {
      "cell_type": "code",
      "execution_count": 7,
      "id": "d37a7707-f19d-4cfa-a220-24ba9a557df5",
      "metadata": {
        "id": "d37a7707-f19d-4cfa-a220-24ba9a557df5"
      },
      "outputs": [],
      "source": [
        "#Eh=   \"SI\"     \"CBar\"   \"CKPa\"\n",
        "#      ¦        ¦        ¦\n",
        "#T     K        C        C\n",
        "#p     Pa       bar      kPa\n",
        "#v     m3/kg    m3/kg    m3/kg\n",
        "#u     J/kg     kJ/kg    kJ/kg\n",
        "#h     J/kg     kJ/kg    kJ/kg\n",
        "#s     J/kg/K   kJ/kg/K  kJ/kg/K\n",
        "#x     kg/kg    kg/kg    kg/kg"
      ]
    },
    {
      "cell_type": "code",
      "execution_count": 8,
      "id": "48bfef5d-1baf-49ca-83cb-d0f1ea90b8ed",
      "metadata": {
        "colab": {
          "base_uri": "https://localhost:8080/"
        },
        "id": "48bfef5d-1baf-49ca-83cb-d0f1ea90b8ed",
        "outputId": "58ac7e7a-3361-4078-8136-00ba737a03c1"
      },
      "outputs": [
        {
          "output_type": "stream",
          "name": "stdout",
          "text": [
            "molar_mass       0.018015\n",
            "T_crit         373.946000\n",
            "p_crit         220.640000\n",
            "acentric         0.344292\n",
            "T_min            0.010000\n",
            "T_max         1726.850000\n",
            "dtype: float64\n"
          ]
        }
      ],
      "source": [
        "fluid = 'water'\n",
        "Eh = 'CBar'\n",
        "print(FCP.get_fluid_info(fluid,Eh))"
      ]
    },
    {
      "cell_type": "code",
      "execution_count": 9,
      "id": "e30627af-6b76-4e5f-bc2f-8c499d8c792e",
      "metadata": {
        "id": "e30627af-6b76-4e5f-bc2f-8c499d8c792e",
        "outputId": "8a313127-bfba-46b9-a390-69f2353510a8",
        "colab": {
          "base_uri": "https://localhost:8080/"
        }
      },
      "outputs": [
        {
          "output_type": "stream",
          "name": "stdout",
          "text": [
            "T     100.000000\n",
            "p       1.000000\n",
            "v       1.695865\n",
            "u    2506.179846\n",
            "h    2675.766372\n",
            "s       7.361044\n",
            "x     998.000000\n",
            "dtype: float64\n"
          ]
        }
      ],
      "source": [
        "# vediamo se funziona\n",
        "T0 = 100 # °C\n",
        "P0 = 1 # bar\n",
        "print(FCP.state(['T','p'],[T0,P0],fluid,Eh='CBar'))"
      ]
    },
    {
      "cell_type": "code",
      "source": [],
      "metadata": {
        "id": "uxH9VMarAv0e"
      },
      "id": "uxH9VMarAv0e",
      "execution_count": null,
      "outputs": []
    }
  ],
  "metadata": {
    "kernelspec": {
      "display_name": "Python 3 (ipykernel)",
      "language": "python",
      "name": "python3"
    },
    "language_info": {
      "codemirror_mode": {
        "name": "ipython",
        "version": 3
      },
      "file_extension": ".py",
      "mimetype": "text/x-python",
      "name": "python",
      "nbconvert_exporter": "python",
      "pygments_lexer": "ipython3",
      "version": "3.12.4"
    },
    "colab": {
      "provenance": []
    }
  },
  "nbformat": 4,
  "nbformat_minor": 5
}