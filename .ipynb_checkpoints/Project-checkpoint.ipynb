{
 "cells": [
  {
   "cell_type": "markdown",
   "id": "896b339b",
   "metadata": {
    "id": "896b339b"
   },
   "source": [
    "Project SHCT"
   ]
  },
  {
   "cell_type": "markdown",
   "id": "d374c67c-9968-4ff8-a05c-6cea83fb0b9a",
   "metadata": {
    "id": "d374c67c-9968-4ff8-a05c-6cea83fb0b9a"
   },
   "source": [
    "Authors: Curumi Klejsi, Querzè Lorenzo  \n",
    "Spring semester 2025"
   ]
  },
  {
   "cell_type": "code",
   "execution_count": 1,
   "id": "3fced4dd-5a3c-45ae-849e-139e83da2f7d",
   "metadata": {
    "colab": {
     "base_uri": "https://localhost:8080/"
    },
    "id": "3fced4dd-5a3c-45ae-849e-139e83da2f7d",
    "outputId": "ac4fe826-cd9e-4dab-8f02-9ff9c765a1f5"
   },
   "outputs": [],
   "source": [
    "#import os\n",
    "#os.chdir(\"/content/SHCT\")\n",
    "#import sys\n",
    "#sys.path.append(\"/content/SHCT\")\n",
    "from pylab import *\n",
    "import numpy as np\n",
    "import Fluid_CP as FCP #calculation of  thermodynamic states\n",
    "from scipy.optimize import minimize, NonlinearConstraint\n",
    "import matplotlib.pyplot as plt\n",
    "import pandas as pd"
   ]
  },
  {
   "cell_type": "code",
   "execution_count": 3,
   "id": "BiDk5aL8G2U7",
   "metadata": {
    "id": "BiDk5aL8G2U7"
   },
   "outputs": [],
   "source": [
    "# PARAMETERS: \n",
    "\n",
    "working_time = 43200 # s, 12 hours in seconds\n",
    "\n",
    "# Pasta\n",
    "\n",
    "T_pasta_in = 7 # °C, initial pasta temperature \n",
    "T_pasta_fin = 85 # °C, final pasta temperature\n",
    "m_pasta = 2 # kg, total kg of pasta\n",
    "m_pasta_basket = 0.5 # kg of pasta per basket\n",
    "t_break = 300 # s, break time in between batches\n",
    "t_cook = 420 # s, cooking time for the pasta\n",
    "R_h2o_pasta = 15 # K/kW, thermal resistance between pasta and water\n",
    "cp_pasta = 3.5 # kJ/kg K, heat capacity of pasta\n",
    "\n",
    "# H2O (sink)\n",
    "\n",
    "T_sink_in = 20 # °C, initial water temperature in the morning\n",
    "T_min_h2o = 85 # °C, minimum water temperature during operation\n",
    "T_max_h2o = 93 # °C, maximum water temperature during operation\n",
    "R_h2o_env = 30 # K/kW, thermal resistance between environment and water\n",
    "cp_h2o = 4.18 # kJ/kg K, heat capacity of water\n",
    "\n",
    "# Air (source)\n",
    "\n",
    "T_source = 20 # °C, heat source temperature, constant in cross-flow configuration\n",
    "\n",
    "# Geometry of the pasta cooker:\n",
    "\n",
    "h = 0.20 # m\n",
    "w = 0.27 # m\n",
    "l = 0.47 # m\n",
    "V = h*w*l\n",
    "\n",
    "# Assumptions during modeling: \n",
    "# - 0D problem: no temperature gradient inside h2o and pasta\n",
    "# - constant properties for water and pasta ---> therefore, thermal resistances and cps of pasta and water are constant\n",
    "\n",
    "# Heat pump design:\n",
    "# subcritical heat pump process\n",
    "# techical constraints: superheating, subcooling, optimal COP, pinch points are respected..."
   ]
  },
  {
   "cell_type": "markdown",
   "id": "79c10b4b-2cc9-4b1e-93b3-217f4069eac1",
   "metadata": {},
   "source": [
    "TASK 1: simulate pasta cooking step"
   ]
  },
  {
   "cell_type": "code",
   "execution_count": 6,
   "id": "d60f6e33-a4eb-4a7c-a97a-27fac94bf1b2",
   "metadata": {},
   "outputs": [],
   "source": [
    "# REQUIRED THERMAL ENERGY INPUT TO COOK THE PASTA\n",
    "\n",
    "#Q = m_pasta*cp_pasta*(T_pasta_fin - T_pasta_in)\n",
    "#print('The required thermal energy input to cook pasta is: ', Q, ' kJ')\n",
    "#Q_dot = Q/t_cook\n",
    "#print('The required thermal power input to cook pasta is: ', Q_dot, ' kW')"
   ]
  },
  {
   "cell_type": "code",
   "execution_count": 18,
   "id": "890bb640-97ac-4c2a-b168-f003a12e8ac1",
   "metadata": {},
   "outputs": [],
   "source": [
    "def h2o_energy_balance(x):\n",
    "    T_in, T_fin = x\n",
    "    rho = 1/FCP.state(['T','p'],[T_in,1],fluid='water',Eh='CBar')['v']\n",
    "    T_water = np.linspace(T_in, T_fin, t_cook)\n",
    "    T_pasta = np.linspace(T_pasta_in, T_pasta_fin, t_cook)\n",
    "    Q = 0\n",
    "    for t in range(0,t_cook):\n",
    "        Q = Q + (T_water[t]-T_source)/R_h2o_env + (T_water[t]-T_pasta[t])/R_h2o_pasta\n",
    "    return np.abs(rho*cp_h2o*V*(T_water[0] - T_water[-1]) - Q)\n",
    "\n",
    "def h2o_constraint(x):\n",
    "    T_in, T_fin = x\n",
    "    return T_in - T_fin"
   ]
  },
  {
   "cell_type": "code",
   "execution_count": 20,
   "id": "226f7353-6c3b-430a-a132-a419650052a8",
   "metadata": {},
   "outputs": [
    {
     "name": "stdout",
     "output_type": "stream",
     "text": [
      "[93. 85.]\n",
      "1352.4656648843854\n"
     ]
    }
   ],
   "source": [
    "NC1 = NonlinearConstraint(h2o_constraint, 0, np.inf)\n",
    "bounds = [(85,93),(85,93)]\n",
    "x0 = [91,87]\n",
    "res = minimize(h2o_energy_balance, x0, method='SLSQP', bounds=bounds, constraints=[NC1])\n",
    "print(res.x)\n",
    "print(res.fun)"
   ]
  },
  {
   "cell_type": "code",
   "execution_count": null,
   "id": "8ba23b09-8fe7-4c52-b0c1-a59c33146b0a",
   "metadata": {},
   "outputs": [],
   "source": []
  }
 ],
 "metadata": {
  "colab": {
   "provenance": []
  },
  "kernelspec": {
   "display_name": "Python 3 (ipykernel)",
   "language": "python",
   "name": "python3"
  },
  "language_info": {
   "codemirror_mode": {
    "name": "ipython",
    "version": 3
   },
   "file_extension": ".py",
   "mimetype": "text/x-python",
   "name": "python",
   "nbconvert_exporter": "python",
   "pygments_lexer": "ipython3",
   "version": "3.12.4"
  }
 },
 "nbformat": 4,
 "nbformat_minor": 5
}
