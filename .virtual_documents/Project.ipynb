





from pylab import *
import numpy as np
import Fluid_CP as FCP #calculation of  thermodynamic states
import matplotlib.pyplot as plt
import pandas as pd


#Eh=   "SI"     "CBar"   "CKPa"  
#      ¦        ¦        ¦        
#T     K        C        C       
#p     Pa       bar      kPa      
#v     m3/kg    m3/kg    m3/kg   
#u     J/kg     kJ/kg    kJ/kg    
#h     J/kg     kJ/kg    kJ/kg    
#s     J/kg/K   kJ/kg/K  kJ/kg/K  
#x     kg/kg    kg/kg    kg/kg  


fluid = 'water'
P0 = 1 # bar
T0 = 300 # °C
# syntax: state(Var,In,fluid,Eh="CBar")
state = FCP.state(['T','p'],[T0,P0],fluid,Eh='CBar')
print('The enthalpy of water in these conditions is: ', state['h'], ' kJ/kg')
print(FCP.get_fluid_info(fluid,Eh='CBar'))



